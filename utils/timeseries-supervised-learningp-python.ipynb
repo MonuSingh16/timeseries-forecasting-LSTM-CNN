{
 "cells": [
  {
   "attachments": {},
   "cell_type": "markdown",
   "metadata": {},
   "source": [
    "### How to Convert a Time Series to a Supervised Learning Problem in Python\n",
    "\n"
   ]
  },
  {
   "attachments": {},
   "cell_type": "markdown",
   "metadata": {},
   "source": [
    "Machine learning methods like deep learning can be used for time series forecasting.\n",
    "\n",
    "Before machine learning can be used, time series forecasting problems must be re-framed as supervised learning problems. From a sequence to pairs of input and output sequences.\n",
    "\n",
    "- How to develop a function to transform a time series dataset into a supervised learning dataset.\n",
    "- How to transform univariate time series data for machine learning.\n",
    "- How to transform multivariate time series data for machine learning"
   ]
  },
  {
   "attachments": {},
   "cell_type": "markdown",
   "metadata": {},
   "source": [
    "#### Pandas shift() function"
   ]
  },
  {
   "cell_type": "code",
   "execution_count": 2,
   "metadata": {},
   "outputs": [
    {
     "name": "stdout",
     "output_type": "stream",
     "text": [
      "   t\n",
      "0  0\n",
      "1  1\n",
      "2  2\n",
      "3  3\n",
      "4  4\n",
      "5  5\n",
      "6  6\n",
      "7  7\n",
      "8  8\n",
      "9  9\n"
     ]
    }
   ],
   "source": [
    "import pandas as pd\n",
    "import numpy as np\n",
    "\n",
    "df = pd.DataFrame()\n",
    "df['t'] = [x for x in range(10)]\n",
    "print(df)"
   ]
  },
  {
   "attachments": {},
   "cell_type": "markdown",
   "metadata": {},
   "source": [
    "We can shift all the observations down by one time step by inserting one new row at the top. Because the new row has no data, we can use NaN to represent “no data”.\n"
   ]
  },
  {
   "cell_type": "code",
   "execution_count": 3,
   "metadata": {},
   "outputs": [
    {
     "name": "stdout",
     "output_type": "stream",
     "text": [
      "   t  t-1\n",
      "0  0  NaN\n",
      "1  1  0.0\n",
      "2  2  1.0\n",
      "3  3  2.0\n",
      "4  4  3.0\n",
      "5  5  4.0\n",
      "6  6  5.0\n",
      "7  7  6.0\n",
      "8  8  7.0\n",
      "9  9  8.0\n"
     ]
    }
   ],
   "source": [
    "df = pd.DataFrame()\n",
    "df['t'] = [x for x in range(10)]\n",
    "df['t-1'] = df['t'].shift(1)\n",
    "print(df)"
   ]
  },
  {
   "attachments": {},
   "cell_type": "markdown",
   "metadata": {},
   "source": [
    "We can see that if we can repeat this process with shifts of 2, 3, and more, how we could create long input sequences (X) that can be used to forecast an output value (y).\n",
    "\n",
    "The shift operator can also accept a negative integer value. This has the effect of pulling the observations up by inserting new rows at the end. Below is an example:\n"
   ]
  },
  {
   "cell_type": "code",
   "execution_count": 5,
   "metadata": {},
   "outputs": [
    {
     "name": "stdout",
     "output_type": "stream",
     "text": [
      "   t  t+1\n",
      "0  0  1.0\n",
      "1  1  2.0\n",
      "2  2  3.0\n",
      "3  3  4.0\n",
      "4  4  5.0\n",
      "5  5  6.0\n",
      "6  6  7.0\n",
      "7  7  8.0\n",
      "8  8  9.0\n",
      "9  9  NaN\n"
     ]
    }
   ],
   "source": [
    "df = pd.DataFrame()\n",
    "df['t'] = [x for x in range(10)]\n",
    "df['t+1'] = df['t'].shift(-1)\n",
    "print(df)"
   ]
  },
  {
   "attachments": {},
   "cell_type": "markdown",
   "metadata": {},
   "source": [
    "We can see that the forecast column can be taken as an input (X) and the second as an output value (y). That is the input value of 0 can be used to forecast the output value of 1.\n"
   ]
  },
  {
   "attachments": {},
   "cell_type": "markdown",
   "metadata": {},
   "source": [
    "> Technically, in time series forecasting terminology the current time (t) and future times (t+1, t+n) are forecast times and past observations (t-1, t-n) are used to make forecasts.\n",
    "\n",
    "We can see how positive and negative shifts can be used to create a new DataFrame from a time series with sequences of input and output patterns for a supervised learning problem.\n",
    "\n",
    "This permits not only classical X -> y prediction, but also X -> Y where both input and output can be sequences."
   ]
  },
  {
   "attachments": {},
   "cell_type": "markdown",
   "metadata": {},
   "source": [
    "#### The series_to_supervised() Function\n",
    "\n",
    "We can use the shift() function in Pandas to automatically create new framings of time series problems given the desired length of input and output sequences.\n",
    "\n",
    "The function takes four arguments:\n",
    "\n",
    "- data: Sequence of observations as a list or 2D NumPy array. Required.\n",
    "- n_in: Number of lag observations as input (X). Values may be between [1..len(data)] Optional. Defaults to 1.\n",
    "- n_out: Number of observations as output (y). Values may be between [0..len(data)-1]. Optional. Defaults to 1.\n",
    "- dropnan: Boolean whether or not to drop rows with NaN values. Optional. Defaults to True.\n",
    "\n",
    "The function returns a single value:\n",
    "\n",
    "return: Pandas DataFrame of series framed for supervised learning."
   ]
  },
  {
   "attachments": {},
   "cell_type": "markdown",
   "metadata": {},
   "source": [
    "The function is defined with default parameters so that if you call it with just your data, it will construct a DataFrame with t-1 as X and t as y.\n"
   ]
  },
  {
   "cell_type": "code",
   "execution_count": null,
   "metadata": {},
   "outputs": [],
   "source": [
    "def series_to_supervised(data, n_in=1, n_out=1, dropnan=True):\n",
    "    \"\"\"\n",
    " Frame a time series as a supervised learning dataset.\n",
    " Arguments:\n",
    " data: Sequence of observations as a list or NumPy array.\n",
    " n_in: Number of lag observations as input (X).\n",
    " n_out: Number of observations as output (y).\n",
    " dropnan: Boolean whether or not to drop rows with NaN values.\n",
    " Returns:\n",
    " Pandas DataFrame of series framed for supervised learning.\n",
    " \"\"\"\n",
    " n_vars = 1 if type(data) is list else data.shape[1]\n",
    " df = DataFrame(data)\n",
    " cols, names = list(), list()\n",
    " # input sequence (t-n, ... t-1)\n",
    " for i in range(n_in, 0, -1):\n",
    " cols.append(df.shift(i))\n",
    " names += [('var%d(t-%d)' % (j+1, i)) for j in range(n_vars)]\n",
    " # forecast sequence (t, t+1, ... t+n)\n",
    " for i in range(0, n_out):\n",
    " cols.append(df.shift(-i))\n",
    " if i == 0:\n",
    " names += [('var%d(t)' % (j+1)) for j in range(n_vars)]\n",
    " else:\n",
    " names += [('var%d(t+%d)' % (j+1, i)) for j in range(n_vars)]\n",
    " # put it all together\n",
    " agg = concat(cols, axis=1)\n",
    " agg.columns = names\n",
    " # drop rows with NaN values\n",
    " if dropnan:\n",
    " agg.dropna(inplace=True)\n",
    " return agg "
   ]
  }
 ],
 "metadata": {
  "kernelspec": {
   "display_name": "venv-timeseries",
   "language": "python",
   "name": "python3"
  },
  "language_info": {
   "codemirror_mode": {
    "name": "ipython",
    "version": 3
   },
   "file_extension": ".py",
   "mimetype": "text/x-python",
   "name": "python",
   "nbconvert_exporter": "python",
   "pygments_lexer": "ipython3",
   "version": "3.9.16"
  },
  "orig_nbformat": 4
 },
 "nbformat": 4,
 "nbformat_minor": 2
}
